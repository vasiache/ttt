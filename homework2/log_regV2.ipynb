{
 "cells": [
  {
   "cell_type": "code",
   "execution_count": 2,
   "metadata": {},
   "outputs": [],
   "source": [
    "import torch\n",
    "import torch.nn as nn\n",
    "import torch.nn.functional as F\n",
    "import torch.optim as optim\n",
    "\n",
    "import numpy as np\n",
    "import scipy.stats as stats\n",
    "import matplotlib.pyplot as plt\n",
    "\n",
    "%matplotlib inline"
   ]
  },
  {
   "cell_type": "code",
   "execution_count": 3,
   "metadata": {},
   "outputs": [],
   "source": [
    "# параметры распределений\n",
    "mu0, mu01, sigma0 = -2., 0.5 , 1.\n",
    "mu1, mu11, sigma1 = 3., 1.5,  2."
   ]
  },
  {
   "cell_type": "code",
   "execution_count": 4,
   "metadata": {},
   "outputs": [],
   "source": [
    "def sample(d0, d1, n=32):\n",
    "    x0 = d0.rsample((n,))\n",
    "    #print (\"x0 = \", x0)\n",
    "    x1 = d1.rsample((n,))\n",
    "    y0 = torch.zeros((n, 1))\n",
    "    y1 = torch.ones((n, 1))\n",
    "    return torch.cat([x0, x1], 0), torch.cat([y0, y1], 0)"
   ]
  },
  {
   "cell_type": "code",
   "execution_count": 5,
   "metadata": {},
   "outputs": [],
   "source": [
    "#d0 = torch.distributions.Normal(torch.tensor([mu0]), torch.tensor([sigma0]))\n",
    "#d1 = torch.distributions.Normal(torch.tensor([mu1]), torch.tensor([sigma1]))\n",
    "d0 = torch.distributions.Normal(torch.tensor([mu0, mu01]), torch.tensor([sigma0]))\n",
    "d1 = torch.distributions.Normal(torch.tensor([mu1, mu11]), torch.tensor([sigma1]))"
   ]
  },
  {
   "cell_type": "code",
   "execution_count": 6,
   "metadata": {},
   "outputs": [
    {
     "name": "stdout",
     "output_type": "stream",
     "text": [
      "[tensor([ 0.4721, -0.3147]), tensor(0.7050)]\n"
     ]
    }
   ],
   "source": [
    "layer = nn.Linear(2, 1)\n",
    "#layer = nn.Linear(1, 1)\n",
    "print([p.data[0] for p in layer.parameters()])\n",
    "layer_opt = optim.SGD(lr=1e-3, params=list(layer.parameters()))"
   ]
  },
  {
   "cell_type": "code",
   "execution_count": 7,
   "metadata": {},
   "outputs": [
    {
     "name": "stdout",
     "output_type": "stream",
     "text": [
      "Ошибка после 0 итераций: 0.408096\n",
      "Ошибка после 1 итераций: 0.302796\n",
      "Ошибка после 2 итераций: 0.253361\n",
      "Ошибка после 3 итераций: 0.223946\n",
      "Ошибка после 4 итераций: 0.203666\n",
      "Ошибка после 5 итераций: 0.191475\n",
      "Ошибка после 6 итераций: 0.180407\n",
      "Ошибка после 7 итераций: 0.172525\n",
      "Ошибка после 8 итераций: 0.166052\n",
      "Ошибка после 9 итераций: 0.161729\n",
      "Ошибка после 10 итераций: 0.156174\n",
      "Ошибка после 11 итераций: 0.153118\n",
      "Ошибка после 12 итераций: 0.150063\n",
      "Ошибка после 13 итераций: 0.147509\n",
      "Ошибка после 14 итераций: 0.144912\n",
      "Ошибка после 15 итераций: 0.142507\n",
      "Ошибка после 16 итераций: 0.139732\n",
      "Ошибка после 17 итераций: 0.138890\n",
      "Ошибка после 18 итераций: 0.138467\n",
      "Ошибка после 19 итераций: 0.136608\n"
     ]
    }
   ],
   "source": [
    "log_freq = 500\n",
    "for i in range(10000):\n",
    "    if i%log_freq == 0:\n",
    "        with torch.no_grad():\n",
    "            x, y = sample(d0, d1, 100000)\n",
    "            out = torch.sigmoid(layer(x))\n",
    "            loss = F.binary_cross_entropy(out, y)\n",
    "        print('Ошибка после %d итераций: %f' %(i/log_freq, loss))\n",
    "    layer_opt.zero_grad()\n",
    "    x, y = sample(d0, d1, 1024)\n",
    "    out = torch.sigmoid(layer(x))\n",
    "    loss = F.binary_cross_entropy(out, y)\n",
    "    loss.backward()\n",
    "    layer_opt.step()"
   ]
  },
  {
   "cell_type": "code",
   "execution_count": 11,
   "metadata": {},
   "outputs": [
    {
     "name": "stdout",
     "output_type": "stream",
     "text": [
      "torch.Size([5000, 2])\n"
     ]
    }
   ],
   "source": [
    "x_scale = np.linspace(-10, 10, 5000)\n",
    "x_scaleD2=np.array([np.linspace(-10, 10, 5000), np.linspace(-10, 10, 5000)])\n",
    "d0_pdf = stats.norm.pdf(x_scale, mu0, sigma0) \n",
    "d1_pdf = stats.norm.pdf(x_scale, mu1, sigma1)\n",
    "d01_pdf = stats.norm.pdf(x_scale, mu01, sigma0) \n",
    "d11_pdf = stats.norm.pdf(x_scale, mu11, sigma1)\n",
    "\n",
    "x_tensor = torch.tensor(x_scaleD2.reshape(-1,2), dtype=torch.float)\n",
    "\n",
    "print (x_tensor.shape)"
   ]
  },
  {
   "cell_type": "code",
   "execution_count": 12,
   "metadata": {},
   "outputs": [],
   "source": [
    "with torch.no_grad():\n",
    "    dist = torch.sigmoid(layer(x_tensor)).numpy()\n",
    "ratio = d1_pdf / (d1_pdf + d0_pdf)\n",
    "ratio1 = d11_pdf / (d11_pdf + d01_pdf)"
   ]
  },
  {
   "cell_type": "code",
   "execution_count": 13,
   "metadata": {},
   "outputs": [
    {
     "name": "stdout",
     "output_type": "stream",
     "text": [
      "torch.Size([5000, 2])\n",
      "(5000,)\n",
      "(5000,)\n"
     ]
    }
   ],
   "source": [
    "print (x_tensor.shape)\n",
    "print(dist.flatten().shape)\n",
    "print(d0_pdf.shape)"
   ]
  },
  {
   "cell_type": "code",
   "execution_count": 14,
   "metadata": {},
   "outputs": [
    {
     "data": {
      "image/png": "[encoded data removed]",
      "text/plain": [
       "<Figure size 432x288 with 1 Axes>"
      ]
     },
     "metadata": {
      "needs_background": "light"
     },
     "output_type": "display_data"
    }
   ],
   "source": [
    "plt.plot(x_scale, d0_pdf*2, label='d0') # умножение на 2 для красоты графиков, на распределения не влияет\n",
    "plt.plot(x_scale, d1_pdf*2, label='d1')\n",
    "plt.plot(x_scale, dist.flatten(), label='pred')\n",
    "plt.plot(x_scale, ratio, label='ratio')\n",
    "plt.plot(x_scale, ratio1, label='ratio1')\n",
    "plt.legend();"
   ]
  },
  {
   "cell_type": "code",
   "execution_count": 196,
   "metadata": {},
   "outputs": [
    {
     "name": "stdout",
     "output_type": "stream",
     "text": [
      "[tensor([1.4790, 0.3360]), tensor(-0.4146)]\n"
     ]
    }
   ],
   "source": [
    "print([p.data[0] for p in layer.parameters()])"
   ]
  },
  {
   "cell_type": "code",
   "execution_count": 197,
   "metadata": {},
   "outputs": [
    {
     "data": {
      "text/plain": [
       "tensor(-inf)"
      ]
     },
     "execution_count": 197,
     "metadata": {},
     "output_type": "execute_result"
    }
   ],
   "source": [
    "torch.log(torch.sigmoid(torch.tensor(-100.)))"
   ]
  },
  {
   "cell_type": "code",
   "execution_count": 198,
   "metadata": {},
   "outputs": [
    {
     "data": {
      "text/plain": [
       "tensor(-100.)"
      ]
     },
     "execution_count": 198,
     "metadata": {},
     "output_type": "execute_result"
    }
   ],
   "source": [
    "F.logsigmoid(torch.tensor(-100.))"
   ]
  },
  {
   "cell_type": "code",
   "execution_count": null,
   "metadata": {},
   "outputs": [],
   "source": []
  }
 ],
 "metadata": {
  "kernelspec": {
   "display_name": "Python 3",
   "language": "python",
   "name": "python3"
  },
  "language_info": {
   "codemirror_mode": {
    "name": "ipython",
    "version": 3
   },
   "file_extension": ".py",
   "mimetype": "text/x-python",
   "name": "python",
   "nbconvert_exporter": "python",
   "pygments_lexer": "ipython3",
   "version": "3.6.8"
  }
 },
 "nbformat": 4,
 "nbformat_minor": 2
}
